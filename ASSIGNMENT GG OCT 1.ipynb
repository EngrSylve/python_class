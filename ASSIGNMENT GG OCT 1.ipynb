{
 "cells": [
  {
   "cell_type": "code",
   "execution_count": null,
   "metadata": {},
   "outputs": [],
   "source": [
    "# Write a Python program to calculate the area and perimeter of a rectangle. The program should take the length and width as inputs from the user.\n",
    "\n",
    "# Create a list containing the names of five different fruits. Write a Python program to print the list in reverse order.\n",
    "\n",
    "# write a Python function that takes a temperature in Celsius as input and converts it to Fahrenheit. Test the function with three different temperature values.\n",
    "\n",
    "# Write a Python program to calculate the compound interest. The program should take principal amount, interest rate, and time as inputs from the user.\n",
    "\n",
    "#Create two variables and assign values to them. Swap the values of these two variables without using any temporary variable.\n",
    "\n",
    "# Write a Python program that takes a user's age as input and determines if they are eligible to vote in a fictional country where the voting age is 18."
   ]
  },
  {
   "cell_type": "code",
   "execution_count": null,
   "metadata": {},
   "outputs": [],
   "source": [
    "# Write a Python program to calculate the area and perimeter of a rectangle. The program should take the length and width as inputs from the user."
   ]
  },
  {
   "cell_type": "code",
   "execution_count": 8,
   "metadata": {},
   "outputs": [],
   "source": [
    "# Create a list containing the names of five different fruits. Write a Python program to print the list in reverse order.\n",
    "fruits = [\"orange\", \"apple\", \"watermelon\", \"grape\", \"dates\"]\n",
    "\n",
    "# Use the reversed() function to create a reversed list\n",
    "fruits.reverse()"
   ]
  },
  {
   "cell_type": "code",
   "execution_count": null,
   "metadata": {},
   "outputs": [],
   "source": []
  },
  {
   "cell_type": "code",
   "execution_count": null,
   "metadata": {},
   "outputs": [],
   "source": [
    "# write a Python function that takes a temperature in Celsius as input and converts it to Fahrenheit. Test the function with three different temperature values."
   ]
  },
  {
   "cell_type": "code",
   "execution_count": null,
   "metadata": {},
   "outputs": [],
   "source": [
    "# Write a Python program to calculate the compound interest. The program should take principal amount, interest rate, and time as inputs from the user."
   ]
  },
  {
   "cell_type": "code",
   "execution_count": null,
   "metadata": {},
   "outputs": [],
   "source": [
    "# Create two variables and assign values to them. Swap the values of these two variables without using any temporary variable."
   ]
  },
  {
   "cell_type": "code",
   "execution_count": null,
   "metadata": {},
   "outputs": [],
   "source": [
    "# Write a Python program that takes a user's age as input and determines if they are eligible to vote in a fictional country where the voting age is 18."
   ]
  }
 ],
 "metadata": {
  "kernelspec": {
   "display_name": "Python 3",
   "language": "python",
   "name": "python3"
  },
  "language_info": {
   "codemirror_mode": {
    "name": "ipython",
    "version": 3
   },
   "file_extension": ".py",
   "mimetype": "text/x-python",
   "name": "python",
   "nbconvert_exporter": "python",
   "pygments_lexer": "ipython3",
   "version": "3.11.5"
  },
  "orig_nbformat": 4
 },
 "nbformat": 4,
 "nbformat_minor": 2
}

{
 "cells": [
  {
   "cell_type": "code",
   "execution_count": null,
   "metadata": {},
   "outputs": [],
   "source": [
    "def register():\n",
    "    account_name = input(\"Enter Account Name: \")\n",
    "    process = True\n",
    "    while process:\n",
    "        pin = int(input:(\"Enter 4 digit Pin: \"))\n",
    "        if pin not in range (1111.10000):\n",
    "            print(\"invalid pin\")\n",
    "            print(f\"please try again\")\n",
    "            \n",
    "        else:\n",
    "            print(\"registration successful\")\n",
    "            process = False\n",
    "            return account_name and pin"
   ]
  }
 ],
 "metadata": {
  "kernelspec": {
   "display_name": "Python 3",
   "language": "python",
   "name": "python3"
  },
  "language_info": {
   "name": "python",
   "version": "3.11.5"
  },
  "orig_nbformat": 4
 },
 "nbformat": 4,
 "nbformat_minor": 2
}

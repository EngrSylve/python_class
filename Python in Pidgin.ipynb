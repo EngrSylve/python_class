{
 "cells": [
  {
   "cell_type": "code",
   "execution_count": null,
   "metadata": {},
   "outputs": [],
   "source": [
    "# PYTHON AS A PROGRAMMING LANGUAGE for  data analysis, programming, AI, web development, machine learning and Data science\n",
    "# variables are assigned with the equal to sigh ie =\n",
    "# variables are integer (whole numbers without decimal), float (numbers with decimal numbers), sting (characters and alphabets must be in quote \"\"). Bool or boolean (true or false)\n",
    "# IDE' (DEVELOPMENT ENVIRONMENT) means progs for running codes eg pycharm, vscode, google colab, jupyter noteble\n",
    "# the presence of # sign before a line means the line is not executable"
   ]
  },
  {
   "cell_type": "code",
   "execution_count": 1,
   "metadata": {},
   "outputs": [],
   "source": [
    "#declaring variables\n",
    "my_var = 10\n",
    "my_var2 = 10.5\n",
    "my_var3 = \"10.5\"\n",
    "my_var4 = False\n",
    "my_var5 = \"godsgift\""
   ]
  },
  {
   "cell_type": "code",
   "execution_count": 3,
   "metadata": {},
   "outputs": [
    {
     "name": "stdout",
     "output_type": "stream",
     "text": [
      "10\n",
      "10.5\n",
      "10.5\n",
      "False\n",
      "godsgift\n"
     ]
    }
   ],
   "source": [
    "# to know the values attached to these variables, we type print(my_var)\n",
    "print(my_var)\n",
    "print(my_var2)\n",
    "print(my_var3)\n",
    "print(my_var4)\n",
    "print(my_var5)"
   ]
  },
  {
   "cell_type": "code",
   "execution_count": 4,
   "metadata": {},
   "outputs": [
    {
     "name": "stdout",
     "output_type": "stream",
     "text": [
      "<class 'int'>\n",
      "<class 'float'>\n",
      "<class 'str'>\n",
      "<class 'bool'>\n",
      "<class 'str'>\n"
     ]
    }
   ],
   "source": [
    "#to know the type of values in these variables, we type print(type(my_var))\n",
    "print(type(my_var))\n",
    "print(type(my_var2))\n",
    "print(type(my_var3))\n",
    "print(type(my_var4))\n",
    "print(type(my_var5))"
   ]
  },
  {
   "cell_type": "code",
   "execution_count": null,
   "metadata": {},
   "outputs": [],
   "source": [
    "# how to name variables\n",
    "#1 dont start variable names with number\n",
    "#dont five space when naming variables\n",
    "# dont use symbol to start a variable\n",
    "# we can use the underscore _ to connect words\n",
    "# dont use reserve words in the library of the prog eg IF, NOT, for, else, list, dict etc"
   ]
  },
  {
   "cell_type": "code",
   "execution_count": null,
   "metadata": {},
   "outputs": [],
   "source": [
    "# perfporming arithmetic operators  with variables declared\n",
    "# addition ( + )\n",
    "# multiplication ( * )\n",
    "# subtraction ( - )\n",
    "# "
   ]
  }
 ],
 "metadata": {
  "kernelspec": {
   "display_name": "Python 3",
   "language": "python",
   "name": "python3"
  },
  "language_info": {
   "codemirror_mode": {
    "name": "ipython",
    "version": 3
   },
   "file_extension": ".py",
   "mimetype": "text/x-python",
   "name": "python",
   "nbconvert_exporter": "python",
   "pygments_lexer": "ipython3",
   "version": "3.11.5"
  },
  "orig_nbformat": 4
 },
 "nbformat": 4,
 "nbformat_minor": 2
}

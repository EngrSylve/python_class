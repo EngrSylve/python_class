{
 "cells": [
  {
   "cell_type": "code",
   "execution_count": null,
   "metadata": {},
   "outputs": [],
   "source": [
    "# Python\n",
    "# If condition\n",
    "  # statement to run\n",
    "#else:\n",
    "  # another statement runs\n",
    "  \n",
    "If (condition)\n",
    "    nothing happens by 3pm\n",
    "  else: \n",
    "    tell him to go home"
   ]
  },
  {
   "cell_type": "code",
   "execution_count": 1,
   "metadata": {},
   "outputs": [
    {
     "ename": "SyntaxError",
     "evalue": "invalid syntax (1563181698.py, line 2)",
     "output_type": "error",
     "traceback": [
      "\u001b[1;36m  Cell \u001b[1;32mIn[1], line 2\u001b[1;36m\u001b[0m\n\u001b[1;33m    statement to run\u001b[0m\n\u001b[1;37m              ^\u001b[0m\n\u001b[1;31mSyntaxError\u001b[0m\u001b[1;31m:\u001b[0m invalid syntax\n"
     ]
    }
   ],
   "source": [
    "if condition:\n",
    "    statement to run\n",
    "elif condition: \n",
    "    another statement to run\n",
    "elif condition:\n",
    "    another statement to run\n",
    "else:\n",
    "    last statement to run"
   ]
  },
  {
   "cell_type": "code",
   "execution_count": 5,
   "metadata": {},
   "outputs": [
    {
     "data": {
      "text/plain": [
       "list"
      ]
     },
     "execution_count": 5,
     "metadata": {},
     "output_type": "execute_result"
    }
   ],
   "source": [
    "bag = [\"comb\", \"polish\", 'biro', 'notebook', 'laptop', 'phone', 'wallet', 'tape', 'ear piece', 'biro', 'water flask', 'gun', 'keys']\n",
    "#bag is a collection, so trying to find out what the bags is? we use type\n",
    "type(bag)"
   ]
  },
  {
   "cell_type": "code",
   "execution_count": 12,
   "metadata": {},
   "outputs": [
    {
     "name": "stdout",
     "output_type": "stream",
     "text": [
      "comb\n",
      "polish\n",
      "biro\n",
      "notebook\n",
      "laptop\n",
      "phone\n",
      "wallet\n",
      "tape\n",
      "ear piece\n",
      "biro\n",
      "water flask\n",
      "gun\n"
     ]
    }
   ],
   "source": [
    "#for a for loop, trying to get the posiotion of an item\n",
    "# item = \"phone\"\n",
    "for item in bag:\n",
    "    print(item)"
   ]
  },
  {
   "cell_type": "code",
   "execution_count": 9,
   "metadata": {},
   "outputs": [],
   "source": [
    "\n",
    "# for variable in collection (list, tuple) where variable is item ... print variable\n",
    "# item = \"\"\n",
    "#define your variable"
   ]
  },
  {
   "cell_type": "code",
   "execution_count": 13,
   "metadata": {},
   "outputs": [
    {
     "data": {
      "text/plain": [
       "'gun'"
      ]
     },
     "execution_count": 13,
     "metadata": {},
     "output_type": "execute_result"
    }
   ],
   "source": [
    "# to remove the last it use bag.pop\n",
    "bag.pop()\n"
   ]
  },
  {
   "cell_type": "code",
   "execution_count": 24,
   "metadata": {},
   "outputs": [
    {
     "ename": "TypeError",
     "evalue": "'tuple' object cannot be interpreted as an integer",
     "output_type": "error",
     "traceback": [
      "\u001b[1;31m---------------------------------------------------------------------------\u001b[0m",
      "\u001b[1;31mTypeError\u001b[0m                                 Traceback (most recent call last)",
      "\u001b[1;32mc:\\Users\\NCC\\Desktop\\Documents\\python_class\\friday 29.ipynb Cell 7\u001b[0m line \u001b[0;36m1\n\u001b[1;32m----> <a href='vscode-notebook-cell:/c%3A/Users/NCC/Desktop/Documents/python_class/friday%2029.ipynb#X10sZmlsZQ%3D%3D?line=0'>1</a>\u001b[0m bag\u001b[39m.\u001b[39;49mpop(())\n",
      "\u001b[1;31mTypeError\u001b[0m: 'tuple' object cannot be interpreted as an integer"
     ]
    }
   ],
   "source": [
    "bag.pop(())"
   ]
  },
  {
   "cell_type": "code",
   "execution_count": 21,
   "metadata": {},
   "outputs": [],
   "source": [
    "for i in \"Helloworld\":\n",
    "     print "
   ]
  },
  {
   "cell_type": "code",
   "execution_count": 23,
   "metadata": {},
   "outputs": [
    {
     "name": "stdout",
     "output_type": "stream",
     "text": [
      "H\n",
      "e\n",
      "l\n",
      "l\n",
      "o\n",
      "w\n",
      "o\n",
      "r\n",
      "l\n",
      "d\n"
     ]
    }
   ],
   "source": [
    "for i in \"Helloworld\":\n",
    "    print(i)"
   ]
  },
  {
   "cell_type": "code",
   "execution_count": 25,
   "metadata": {},
   "outputs": [
    {
     "data": {
      "text/plain": [
       "11"
      ]
     },
     "execution_count": 25,
     "metadata": {},
     "output_type": "execute_result"
    }
   ],
   "source": [
    "len(bag)"
   ]
  },
  {
   "cell_type": "code",
   "execution_count": 26,
   "metadata": {},
   "outputs": [
    {
     "data": {
      "text/plain": [
       "['comb',\n",
       " 'polish',\n",
       " 'biro',\n",
       " 'notebook',\n",
       " 'laptop',\n",
       " 'phone',\n",
       " 'wallet',\n",
       " 'tape',\n",
       " 'ear piece',\n",
       " 'biro',\n",
       " 'water flask']"
      ]
     },
     "execution_count": 26,
     "metadata": {},
     "output_type": "execute_result"
    }
   ],
   "source": [
    "list(bag)"
   ]
  },
  {
   "cell_type": "code",
   "execution_count": 36,
   "metadata": {},
   "outputs": [],
   "source": [
    "# to add to a collection, used append, \n",
    "# bag.append('')\n"
   ]
  },
  {
   "cell_type": "code",
   "execution_count": 35,
   "metadata": {},
   "outputs": [
    {
     "name": "stdout",
     "output_type": "stream",
     "text": [
      "['spoon', 'wig', 'mirror', 'shoe']\n"
     ]
    }
   ],
   "source": [
    "bag = [\"spoon\", \"wig\", \"mirror\"]\n",
    "#using append diaper\n",
    "bag.append(\"shoe\")\n",
    "print(bag)\n"
   ]
  },
  {
   "cell_type": "code",
   "execution_count": 42,
   "metadata": {},
   "outputs": [],
   "source": [
    "extra_bag = [bag]"
   ]
  },
  {
   "cell_type": "code",
   "execution_count": null,
   "metadata": {},
   "outputs": [],
   "source": []
  }
 ],
 "metadata": {
  "kernelspec": {
   "display_name": "Python 3",
   "language": "python",
   "name": "python3"
  },
  "language_info": {
   "codemirror_mode": {
    "name": "ipython",
    "version": 3
   },
   "file_extension": ".py",
   "mimetype": "text/x-python",
   "name": "python",
   "nbconvert_exporter": "python",
   "pygments_lexer": "ipython3",
   "version": "3.11.5"
  },
  "orig_nbformat": 4
 },
 "nbformat": 4,
 "nbformat_minor": 2
}
